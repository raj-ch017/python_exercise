{
 "cells": [
  {
   "cell_type": "markdown",
   "metadata": {},
   "source": [
    "# Chapter 3 - Strings"
   ]
  },
  {
   "cell_type": "markdown",
   "metadata": {},
   "source": [
    "---\n",
    "\n",
    "### 020\n",
    "\n",
    "Ask the user to enter their first name and then display the length of their name."
   ]
  },
  {
   "cell_type": "code",
   "execution_count": 1,
   "metadata": {},
   "outputs": [
    {
     "name": "stdout",
     "output_type": "stream",
     "text": [
      "Your name is 7 characters long.\n"
     ]
    }
   ],
   "source": [
    "user_in = input(\"Enter your name: \") \n",
    "\n",
    "print(\"Your name is {} characters long.\".format(len(user_in)))"
   ]
  },
  {
   "cell_type": "markdown",
   "metadata": {},
   "source": [
    "---\n",
    "\n",
    "### 021\n",
    "\n",
    "Ask the user to enter their first name and then ask them to enter their surname. Join them together with a space between and display the name and the length of whole name."
   ]
  },
  {
   "cell_type": "code",
   "execution_count": 2,
   "metadata": {},
   "outputs": [
    {
     "name": "stdout",
     "output_type": "stream",
     "text": [
      "Your full name is Rajdeep Chakraborty \n",
      "Length: 19 characters long\n"
     ]
    }
   ],
   "source": [
    "user_in_first = input(\"Enter your first name: \")\n",
    "user_in_last = input(\"Enter your last name: \")\n",
    "\n",
    "req_out = user_in_first + \" \" + user_in_last\n",
    "\n",
    "print(\"Your full name is {} \\nLength: {} characters long\".format(req_out,len(req_out)))"
   ]
  },
  {
   "cell_type": "markdown",
   "metadata": {},
   "source": [
    "---\n",
    "\n",
    "### 022\n",
    "\n",
    "Ask the user to enter their first name and surname in lower case. Change the case to title case and join them together. Display the finished result."
   ]
  },
  {
   "cell_type": "code",
   "execution_count": 4,
   "metadata": {},
   "outputs": [
    {
     "name": "stdout",
     "output_type": "stream",
     "text": [
      "Your full name is Sinchan Ray.\n"
     ]
    }
   ],
   "source": [
    "user_first22 = input(\"Enter your first name in lower case: \").title()\n",
    "user_last22 = input(\"Enter your last name in lower case: \").title()\n",
    "\n",
    "full_name = user_first22 + \" \" + user_last22\n",
    "\n",
    "print(\"Your full name is {}.\".format(full_name))"
   ]
  },
  {
   "cell_type": "markdown",
   "metadata": {},
   "source": [
    "---\n",
    "\n",
    "### 023\n",
    "\n",
    "Ask the user to type in the first line of a nursery rhyme and display the length of the string. Ask for a starting number and an ending number and then display just that section of the text."
   ]
  },
  {
   "cell_type": "code",
   "execution_count": 13,
   "metadata": {},
   "outputs": [
    {
     "name": "stdout",
     "output_type": "stream",
     "text": [
      "The length of the rhyme is 36 characters.\n",
      "Here is a subtext of the rhyme:  the bus go roun\n"
     ]
    }
   ],
   "source": [
    "user_rhyme = input(\"Enter the first line of a nursery rhyme: \")\n",
    "\n",
    "print(\"The length of the rhyme is {} characters.\".format(len(user_rhyme)))\n",
    "\n",
    "user_start = int(input(\"Enter a starting number: \"))\n",
    "user_end = int(input(\"Enter an ending number: \"))\n",
    "\n",
    "out_rhyme = user_rhyme[user_start-1:user_end]\n",
    "print(\"Here is a subtext of the rhyme: {}\".format(out_rhyme))"
   ]
  },
  {
   "cell_type": "markdown",
   "metadata": {},
   "source": [
    "---\n",
    "\n",
    "### 024\n",
    "\n",
    "Ask the user to type in any word and display it in upper case."
   ]
  },
  {
   "cell_type": "code",
   "execution_count": 14,
   "metadata": {},
   "outputs": [
    {
     "name": "stdout",
     "output_type": "stream",
     "text": [
      "Here is your word in all upper case: VACATION\n"
     ]
    }
   ],
   "source": [
    "user_in24 = input(\"Enter a word: \")\n",
    "\n",
    "print(\"Here is your word in all upper case: {}\".format(user_in24.upper()))"
   ]
  },
  {
   "cell_type": "markdown",
   "metadata": {},
   "source": [
    "---\n",
    "\n",
    "### 025\n",
    "\n",
    "Ask the user to enter their first name. If the length of their first name is under five characters, ask them to enter their surname and join them together (without a space) and display the name in upper case.\n",
    "\n",
    "If the length of the first name is five characters or more, display their first name in lower case."
   ]
  },
  {
   "cell_type": "code",
   "execution_count": 18,
   "metadata": {},
   "outputs": [
    {
     "name": "stdout",
     "output_type": "stream",
     "text": [
      "Your name: JOHNPAUL JONES\n"
     ]
    }
   ],
   "source": [
    "user_first25 = input(\"Enter your first name: \")\n",
    "\n",
    "if len(user_first25) < 5:\n",
    "\n",
    "    user_last25 = input(\"Enter your last name: \")\n",
    "    \n",
    "    the_output = user_first25 + user_last25\n",
    "    print(\"Your name: {}\".format(the_output.upper()))\n",
    "\n",
    "else:\n",
    "\n",
    "    print(\"Your name: {}\".format(user_first25.lower()))"
   ]
  },
  {
   "cell_type": "markdown",
   "metadata": {},
   "source": [
    "---\n",
    "\n",
    "### 026\n",
    "\n",
    "Pig Latin takes the first consonant of a word, moves it to the end of the word and adds on an 'ay'.\n",
    "\n",
    "If a word begins with a vowel you just add 'way' to the end.\n",
    "\n",
    "For example:\n",
    "\n",
    "            'pig' becomes 'igpay'\n",
    "            'banana' becomes 'ananabay'\n",
    "            'aadvark' becomes 'aadvarkway'\n",
    "\n",
    "Create a program that will ask the user to end a word and change it into Pig Latin. Make sure the new word is displayed in lowercase."
   ]
  },
  {
   "cell_type": "code",
   "execution_count": 21,
   "metadata": {},
   "outputs": [
    {
     "name": "stdout",
     "output_type": "stream",
     "text": [
      "The Pig Latin translation of aadvark is aadvarkway\n"
     ]
    }
   ],
   "source": [
    "user_word = input(\"Enter a word: \").lower()\n",
    "\n",
    "vowel_list = ['a','e','i','o','u']\n",
    "\n",
    "if user_word[0] in vowel_list:\n",
    "\n",
    "    out_word = user_word + \"way\"\n",
    "    print(\"The Pig Latin translation of {} is {}\".format(user_word,out_word))\n",
    "\n",
    "else:\n",
    "\n",
    "    out_word = user_word[1:] + user_word[0] + 'ay'\n",
    "    print(\"The Pig Latin translation of {} is {}\".format(user_word,out_word))"
   ]
  }
 ],
 "metadata": {
  "kernelspec": {
   "display_name": "Python 3.8.5 ('base')",
   "language": "python",
   "name": "python3"
  },
  "language_info": {
   "codemirror_mode": {
    "name": "ipython",
    "version": 3
   },
   "file_extension": ".py",
   "mimetype": "text/x-python",
   "name": "python",
   "nbconvert_exporter": "python",
   "pygments_lexer": "ipython3",
   "version": "3.8.5"
  },
  "orig_nbformat": 4,
  "vscode": {
   "interpreter": {
    "hash": "f73e3eab7f8f3895bcf0233006e6b85a782c67f2d3bcd98f4fda580a3f96bd0c"
   }
  }
 },
 "nbformat": 4,
 "nbformat_minor": 2
}

{
 "cells": [
  {
   "cell_type": "markdown",
   "metadata": {},
   "source": [
    "# Chapter 1 - The Basics"
   ]
  },
  {
   "cell_type": "markdown",
   "metadata": {},
   "source": [
    "### 001\n",
    "\n",
    "Ask for the user's first name and display the output message:\n",
    "\n",
    "            Hello [First Name].\n",
    "            "
   ]
  },
  {
   "cell_type": "code",
   "execution_count": 1,
   "metadata": {},
   "outputs": [
    {
     "name": "stdout",
     "output_type": "stream",
     "text": [
      "Hello Rajdeep.\n"
     ]
    }
   ],
   "source": [
    "user1 = input(\"Please enter your first name: \")\n",
    "\n",
    "print(\"Hello \" + user1 + \".\")       "
   ]
  },
  {
   "cell_type": "markdown",
   "metadata": {},
   "source": [
    "---\n",
    "\n",
    "### 002 \n",
    "\n",
    "Ask for the user's first name and then ask for their surname and display the output message:\n",
    "\n",
    "            Hello [First Name] [Surname]"
   ]
  },
  {
   "cell_type": "code",
   "execution_count": 2,
   "metadata": {},
   "outputs": [
    {
     "name": "stdout",
     "output_type": "stream",
     "text": [
      "Hello Rajdeep Chakraborty.\n"
     ]
    }
   ],
   "source": [
    "user2 = input(\"Please enter your first name: \")\n",
    "last2 = input(\"Please enter your last name: \")\n",
    "\n",
    "print(\"Hello \" + user2 + \" \" + last2 + \".\")"
   ]
  },
  {
   "cell_type": "markdown",
   "metadata": {},
   "source": [
    "---\n",
    "\n",
    "### 003 \n",
    "\n",
    "Write code that will display the joke \"What do you call a bear with no teeth?\" and on the next line display the answer \"A gummy bear!\"\n",
    "\n",
    "Try to create it using only one line of code."
   ]
  },
  {
   "cell_type": "code",
   "execution_count": 4,
   "metadata": {},
   "outputs": [
    {
     "name": "stdout",
     "output_type": "stream",
     "text": [
      "What do you call a bear with no teeth?\n",
      "- A gummy bear!\n"
     ]
    }
   ],
   "source": [
    "print(\"What do you call a bear with no teeth?\" + \"\\n\" + \"- A gummy bear!\")"
   ]
  },
  {
   "cell_type": "markdown",
   "metadata": {},
   "source": [
    "---\n",
    "\n",
    "### 004\n",
    "\n",
    "Ask the user to enter two numbers. Add them together and display the answer as:\n",
    "\n",
    "            The total is [answer].\n"
   ]
  },
  {
   "cell_type": "code",
   "execution_count": 8,
   "metadata": {},
   "outputs": [
    {
     "name": "stdout",
     "output_type": "stream",
     "text": [
      "The total is 2.0.\n"
     ]
    }
   ],
   "source": [
    "user_num4 = input(\"Enter a number: \")\n",
    "user_num44 = input(\"Enter another number: \")\n",
    "\n",
    "sol = float(user_num44) + float(user_num4)\n",
    "\n",
    "print(\"The total is \" + str(sol) + \".\")"
   ]
  },
  {
   "cell_type": "markdown",
   "metadata": {},
   "source": [
    "---\n",
    "\n",
    "### 005\n",
    "\n",
    "Ask the user to enter three numbers. Add together the first two numbers and then multiply this total by the third. Display the answer as:\n",
    "\n",
    "    The answer is [answer].\n",
    "    "
   ]
  },
  {
   "cell_type": "code",
   "execution_count": 9,
   "metadata": {},
   "outputs": [
    {
     "name": "stdout",
     "output_type": "stream",
     "text": [
      "The answer is 60.0.\n"
     ]
    }
   ],
   "source": [
    "user_numA = input(\"Enter a number: \")\n",
    "user_numB = input(\"Enter another number: \")\n",
    "user_numC = input(\"Enter a number once again: \")\n",
    "\n",
    "the_sol = (float(user_numA) + float(user_numB)) * float(user_numC)\n",
    "\n",
    "print(\"The answer is {}.\".format(the_sol))"
   ]
  },
  {
   "cell_type": "markdown",
   "metadata": {},
   "source": [
    "---\n",
    "\n",
    "### 006\n",
    "\n",
    "Ask how many slices of pizza the user started with and ask how many slices they have eaten. Work out how many slices they have left and display the answer in a user-friendly format."
   ]
  },
  {
   "cell_type": "code",
   "execution_count": 12,
   "metadata": {},
   "outputs": [
    {
     "name": "stdout",
     "output_type": "stream",
     "text": [
      "You started with 6 slices. \n",
      "You ate 2 slices. \n",
      "4 slices remain.\n"
     ]
    }
   ],
   "source": [
    "initial_slices = int(input(\"How many slices did you start with? \"))\n",
    "slices_eaten = int(input(\"How many slices have been eaten? \"))\n",
    "\n",
    "slices_remain = initial_slices - slices_eaten\n",
    "\n",
    "print(\"You started with {} slices. \\nYou ate {} slices. \\n{} slices remain.\".format(initial_slices,slices_eaten,slices_remain))"
   ]
  },
  {
   "cell_type": "markdown",
   "metadata": {},
   "source": [
    "---\n",
    "\n",
    "### 007\n",
    "\n",
    "Ask the user for their name and their age. Add 1 to their age and display the output:\n",
    "\n",
    "            [Name] next birthday you will be [new age].\n",
    "            "
   ]
  },
  {
   "cell_type": "code",
   "execution_count": 14,
   "metadata": {},
   "outputs": [
    {
     "name": "stdout",
     "output_type": "stream",
     "text": [
      "Rajdeep, next birthday you will be 24.\n"
     ]
    }
   ],
   "source": [
    "name7 = input(\"Enter your name: \")\n",
    "age7 = int(input(\"Enter your age: \"))\n",
    "\n",
    "print(\"{}, next birthday you will be {}.\".format(name7,age7+1))"
   ]
  },
  {
   "cell_type": "markdown",
   "metadata": {},
   "source": [
    "---\n",
    "\n",
    "### 008 \n",
    "\n",
    "Ask for the total price of the bill, and then ask how many diners there are. Divide the total bill by the number of diners and show how much each person must pay."
   ]
  },
  {
   "cell_type": "code",
   "execution_count": 15,
   "metadata": {},
   "outputs": [
    {
     "name": "stdout",
     "output_type": "stream",
     "text": [
      "Each person needs to pay: 11.75\n"
     ]
    }
   ],
   "source": [
    "bill = float(input(\"Enter bill amount: \"))\n",
    "diners = int(input(\"Enter number of diners: \"))\n",
    "contri = bill / diners \n",
    "\n",
    "print(\"Each person needs to pay: {}\".format(contri))"
   ]
  },
  {
   "cell_type": "markdown",
   "metadata": {},
   "source": [
    "---\n",
    "\n",
    "### 009\n",
    "\n",
    "Write a program that will ask for a number of days and then will show how many hours, minutes and seconds are in that number of days."
   ]
  },
  {
   "cell_type": "code",
   "execution_count": 18,
   "metadata": {},
   "outputs": [
    {
     "name": "stdout",
     "output_type": "stream",
     "text": [
      "5.5 days is equivalent to: \n",
      "132.0 hours \n",
      "7920.0 minutes \n",
      "475200.0 seconds\n"
     ]
    }
   ],
   "source": [
    "num_days = float(input(\"Enter number of days: \"))\n",
    "\n",
    "print(\"{} days is equivalent to: \\n{} hours \\n{} minutes \\n{} seconds\".format(num_days,num_days*24,num_days*24*60,num_days*24*3600))"
   ]
  },
  {
   "cell_type": "markdown",
   "metadata": {},
   "source": [
    "---\n",
    "\n",
    "### 010\n",
    "\n",
    "There are 2,204 pounds in a kilogram. Ask the user to enter a weight in kilograms and convert it to pounds."
   ]
  },
  {
   "cell_type": "code",
   "execution_count": 21,
   "metadata": {},
   "outputs": [
    {
     "name": "stdout",
     "output_type": "stream",
     "text": [
      "2.0 kg = 4408.0 lbs\n"
     ]
    }
   ],
   "source": [
    "user_wt = float(input(\"Enter a weight (in kg): \"))\n",
    "\n",
    "print(\"{} kg = {} lbs\".format(user_wt,user_wt*2204))"
   ]
  },
  {
   "cell_type": "markdown",
   "metadata": {},
   "source": [
    "---\n",
    "\n",
    "### 011\n",
    "\n",
    "Task the user to enter a number over 100 and then enter a number under 10 and them tell how many times the smaller number goes into the larger number in a user-friendly format."
   ]
  },
  {
   "cell_type": "code",
   "execution_count": 23,
   "metadata": {},
   "outputs": [
    {
     "name": "stdout",
     "output_type": "stream",
     "text": [
      "125 is 41 times larger than 3.\n"
     ]
    }
   ],
   "source": [
    "user_large = int(input(\"Enter a number greater than 100: \"))\n",
    "user_small = int(input(\"Enter a number smaller than 10: \"))\n",
    "\n",
    "print(\"{} is {} times larger than {}.\".format(user_large,user_large//user_small,user_small))"
   ]
  }
 ],
 "metadata": {
  "kernelspec": {
   "display_name": "Python 3.8.5 ('base')",
   "language": "python",
   "name": "python3"
  },
  "language_info": {
   "codemirror_mode": {
    "name": "ipython",
    "version": 3
   },
   "file_extension": ".py",
   "mimetype": "text/x-python",
   "name": "python",
   "nbconvert_exporter": "python",
   "pygments_lexer": "ipython3",
   "version": "3.8.5"
  },
  "orig_nbformat": 4,
  "vscode": {
   "interpreter": {
    "hash": "f73e3eab7f8f3895bcf0233006e6b85a782c67f2d3bcd98f4fda580a3f96bd0c"
   }
  }
 },
 "nbformat": 4,
 "nbformat_minor": 2
}

{
 "cells": [
  {
   "cell_type": "markdown",
   "metadata": {},
   "source": [
    "# Section 9 - Tuples, Lists and Dictonaries\n",
    "\n",
    "### author: @raj-ch017"
   ]
  },
  {
   "cell_type": "markdown",
   "metadata": {},
   "source": [
    "---\n",
    "\n",
    "### 069\n",
    "\n",
    "Create a tuple containing the names of five countries and display the whole tuple. Ask the user to enter one of the countries that have been shown to them and then display the index number of that item in the tuple."
   ]
  },
  {
   "cell_type": "code",
   "execution_count": 7,
   "metadata": {},
   "outputs": [
    {
     "name": "stdout",
     "output_type": "stream",
     "text": [
      "('Netherlands', 'Australia', 'France', 'Germany', 'USA')\n",
      "Australia is present at index 1\n"
     ]
    }
   ],
   "source": [
    "country_tuple = (\"Netherlands\",\"Australia\",\"France\",\"Germany\",\"USA\")\n",
    "\n",
    "print(country_tuple)\n",
    "\n",
    "user_choice = input(\"Select a country: \").title()\n",
    "\n",
    "if user_choice in country_tuple:\n",
    "    print(\"{} is present at index {}\".format(user_choice,country_tuple.index(user_choice)))\n",
    "else:\n",
    "    print(\"Invalid choice!\")"
   ]
  },
  {
   "cell_type": "markdown",
   "metadata": {},
   "source": [
    "---\n",
    "\n",
    "# 070\n",
    "\n",
    "Add to program 069 to ask the user to enter a number and display the country in that position."
   ]
  },
  {
   "cell_type": "code",
   "execution_count": null,
   "metadata": {},
   "outputs": [
    {
     "name": "stdout",
     "output_type": "stream",
     "text": [
      "('Netherlands', 'Australia', 'France', 'Germany', 'USA')\n",
      "Netherlands is located at index 0\n"
     ]
    }
   ],
   "source": [
    "country_tuple = (\"Netherlands\",\"Australia\",\"France\",\"Germany\",\"USA\")\n",
    "\n",
    "print(country_tuple)\n",
    "\n",
    "user_ind = int(input(\"Enter a number: \"))\n",
    "\n",
    "if user_ind in range(len(country_tuple)):\n",
    "    print(\"{} is located at index {}\".format(country_tuple[user_ind],user_ind))\n",
    "else:\n",
    "    print(\"Number is not an index position!\")"
   ]
  },
  {
   "cell_type": "markdown",
   "metadata": {},
   "source": [
    "---\n",
    "\n",
    "### 071\n",
    "\n",
    "Create a list of two sports. Ask the user what their favourite sport is and add this to the end of the list. Sort the list and display it."
   ]
  },
  {
   "cell_type": "code",
   "execution_count": null,
   "metadata": {},
   "outputs": [
    {
     "name": "stdout",
     "output_type": "stream",
     "text": [
      "Here is a list of sports: ['Basketball', 'Football', 'Hockey']\n"
     ]
    }
   ],
   "source": [
    "sport_list = [\"Football\",\"Hockey\"]\n",
    "\n",
    "user_sport = input(\"What is your favourite sport? \").title()\n",
    "\n",
    "sport_list.append(user_sport)\n",
    "sport_list.sort()\n",
    "\n",
    "print(\"Here is a list of sports: {}\".format(sport_list))"
   ]
  },
  {
   "cell_type": "markdown",
   "metadata": {},
   "source": [
    "---\n",
    "\n",
    "### 072\n",
    "\n",
    "Create a list of six school subjects. Ask the user which of these subjects they don't like. Delete the subject they have chosen from the list before you display the list again."
   ]
  },
  {
   "cell_type": "code",
   "execution_count": 14,
   "metadata": {},
   "outputs": [
    {
     "name": "stdout",
     "output_type": "stream",
     "text": [
      "Here is a list of subjects: ['Mathematics', 'Biology', 'Economics', 'English Literature', 'Physics', 'Computer Science']\n",
      "Here is the updated subject list: ['Mathematics', 'Biology', 'English Literature', 'Physics', 'Computer Science']\n"
     ]
    }
   ],
   "source": [
    "subject_list = [\"Mathematics\",\"Biology\",\"Economics\",\"English Literature\",\"Physics\",\"Computer Science\"]\n",
    "\n",
    "print(\"Here is a list of subjects: {}\".format(subject_list))\n",
    "\n",
    "user_sub = input(\"Which of these subjects is your least favourite? \").title()\n",
    "\n",
    "subject_list.remove(user_sub)\n",
    "\n",
    "print(\"Here is the updated subject list: {}\".format(subject_list))"
   ]
  },
  {
   "cell_type": "markdown",
   "metadata": {},
   "source": [
    "---\n",
    "\n",
    "### 073\n",
    "\n",
    "Ask the user to enter four of their favourite foods and store them in a dictionary so that they are indexed with numbers starting from 1.\n",
    "\n",
    "Display the dictionary in full, showing the index number and the item. Ask them which they want to get rid of and remove it from the list. Sort the remaining data and display the dictionary."
   ]
  },
  {
   "cell_type": "code",
   "execution_count": 29,
   "metadata": {},
   "outputs": [
    {
     "name": "stdout",
     "output_type": "stream",
     "text": [
      "Here is a dictionary of your favourite food: {1: 'Pizza', 2: 'Pasta', 3: 'Tea', 4: 'Coffee'}\n",
      "Here is your updated dictionary of favourite food: {1: 'Pizza', 3: 'Tea', 4: 'Coffee'}\n"
     ]
    }
   ],
   "source": [
    "food_dict = {}\n",
    "\n",
    "for ind in range(4):\n",
    "\n",
    "    user_food = input(\"Enter your favourite food: \").title()\n",
    "    food_dict[ind+1] = user_food\n",
    "\n",
    "print(\"Here is a dictionary of your favourite food: {}\".format(food_dict))\n",
    "\n",
    "user_rem = input(\"Which food do you want to remove? \").title()\n",
    "\n",
    "rem_ind = list(food_dict.values()).index(user_rem) + 1\n",
    "\n",
    "del(food_dict[rem_ind])\n",
    "\n",
    "print(\"Here is your updated dictionary of favourite food: {}\".format(food_dict))\n"
   ]
  },
  {
   "cell_type": "markdown",
   "metadata": {},
   "source": [
    "---\n",
    "\n",
    "### 074\n",
    "\n",
    "Enter a list of ten colours. Ask the user for a starting number between 0 and 4 and an end number between 5 and 9. Display the list for those colours between start and end numbers the user input."
   ]
  },
  {
   "cell_type": "code",
   "execution_count": 30,
   "metadata": {},
   "outputs": [
    {
     "name": "stdout",
     "output_type": "stream",
     "text": [
      "Here is a list of colors: ['Red', 'Black', 'Grey', 'White', 'Orange', 'Pink', 'Purple', 'Green', 'Chrome Yellow', 'Tangerine']\n",
      "Here is a subset of list of colors: ['Grey', 'White', 'Orange', 'Pink', 'Purple', 'Green']\n"
     ]
    }
   ],
   "source": [
    "color_list = []\n",
    "\n",
    "for j in range(10):\n",
    "\n",
    "    color = input(\"Enter a color: \").title()\n",
    "    color_list.append(color)\n",
    "\n",
    "print(\"Here is a list of colors: {}\".format(color_list))\n",
    "\n",
    "user_start = int(input(\"Enter a number between 0 and 4: \"))\n",
    "user_end = int(input(\"Enter a number between 5 and 9: \"))\n",
    "\n",
    "print(\"Here is a subset of list of colors: {}\".format(color_list[user_start:user_end+1]))"
   ]
  },
  {
   "cell_type": "markdown",
   "metadata": {},
   "source": [
    "---\n",
    "\n",
    "### 075\n",
    "\n",
    "Create a list of four three-digit numbers. Display the list to the user, showing each item from the list on a seperate line.\n",
    "\n",
    "Ask the user to enter to enter a three-digit number. If the number they have typed in matches one in the list, display the position of that number in the list, otherwise display the messge:\n",
    "\n",
    "            \"That is not in the list.\""
   ]
  },
  {
   "cell_type": "code",
   "execution_count": 32,
   "metadata": {},
   "outputs": [
    {
     "name": "stdout",
     "output_type": "stream",
     "text": [
      "123 is located at index 2\n"
     ]
    }
   ],
   "source": [
    "num_list = []\n",
    "\n",
    "for k in range(4):\n",
    "\n",
    "    test_user = int(input(\"3 digit number: \"))\n",
    "    num_list.append(test_user)\n",
    "\n",
    "ask_user = int(input(\"Enter a three-digit number: \"))\n",
    "\n",
    "if ask_user in num_list:\n",
    "\n",
    "    print(\"{} is located at index {}\".format(ask_user,num_list.index(ask_user)))\n",
    "\n",
    "else:\n",
    "\n",
    "    print(\"{} is not in the list\".format(ask_user))"
   ]
  },
  {
   "cell_type": "markdown",
   "metadata": {},
   "source": [
    "---\n",
    "\n",
    "### 076\n",
    "\n",
    "Ask the user to enter the names of three people they want to invite to a party and store them in a list.\n",
    "\n",
    "After they have entered all three names, ask them if they want to add another. If they do, allow them to add more names until they answer \"no\".\n",
    "\n",
    "When they answer \"no\", display how many people they have invited to the party."
   ]
  },
  {
   "cell_type": "code",
   "execution_count": 35,
   "metadata": {},
   "outputs": [
    {
     "name": "stdout",
     "output_type": "stream",
     "text": [
      "You have invited 3 people.\n"
     ]
    }
   ],
   "source": [
    "party_list = []\n",
    "flag = True \n",
    "\n",
    "for z in range(3):\n",
    "\n",
    "    run1 = input(\"Enter name: \")\n",
    "    party_list.append(run1)\n",
    "\n",
    "while flag:\n",
    "\n",
    "    user_ans = input(\"Do you want to add another name? \").lower()\n",
    "\n",
    "    if user_ans == 'no':\n",
    "        print(\"You have invited {} people.\".format(len(party_list)))\n",
    "        flag = False\n",
    "\n",
    "    else:\n",
    "\n",
    "        run2 = input(\"Enter name: \")\n",
    "        party_list.append(run2)\n",
    "\n"
   ]
  },
  {
   "cell_type": "markdown",
   "metadata": {},
   "source": [
    "---\n",
    "\n",
    "### 077\n",
    "\n",
    "Change program 076 so that once the user has completed their list of names, display the full list and ask them to type in one of the names on the list. Display the position of that name in the list.\n",
    "\n",
    "Ask the user if they still want that person to come to the party. If they answer 'no', delete that entry from the list and display the list again."
   ]
  },
  {
   "cell_type": "code",
   "execution_count": 48,
   "metadata": {},
   "outputs": [
    {
     "name": "stdout",
     "output_type": "stream",
     "text": [
      "You have invited 5 people.\n",
      "Here is your party list: ['Pal', 'Kjaer', 'Jquark', 'Jamie', 'Victoria']\n",
      "Pal's name is located at position 0\n",
      "Here is the name of people invited to the party: ['Kjaer', 'Jquark', 'Jamie', 'Victoria']\n"
     ]
    }
   ],
   "source": [
    "party_list = []\n",
    "flag = True \n",
    "\n",
    "for z in range(3):\n",
    "\n",
    "    run1 = input(\"Enter name: \")\n",
    "    party_list.append(run1)\n",
    "\n",
    "while flag:\n",
    "\n",
    "    user_ans = input(\"Do you want to add another name? \").lower()\n",
    "\n",
    "    if user_ans == 'no':\n",
    "        print(\"You have invited {} people.\".format(len(party_list)))\n",
    "        flag = False\n",
    "\n",
    "    else:\n",
    "\n",
    "        run2 = input(\"Enter name: \")\n",
    "        party_list.append(run2)\n",
    "\n",
    "print(\"Here is your party list: {}\".format(party_list))\n",
    "user_want_name = input(\"Enter a name from the list: \")\n",
    "print(\"{}'s name is located at position {}\".format(user_want_name,party_list.index(user_want_name)))\n",
    "\n",
    "choose_user = input(\"Do you want to invite {} to the party? \".format(user_want_name)).lower()\n",
    "\n",
    "if choose_user == 'no':\n",
    "    party_list.remove(user_want_name)\n",
    "\n",
    "print(\"Here is the name of people invited to the party: {}\".format(party_list))\n"
   ]
  },
  {
   "cell_type": "markdown",
   "metadata": {},
   "source": [
    "---\n",
    "\n",
    "### 078\n",
    "\n",
    "Create a list containing the titles of four TV programmes and display them on seperate lines.\n",
    "\n",
    "Ask the user to enter another show and a position they want it inserted into the list. Display the list again, showing all five TV programmes in their new positions."
   ]
  },
  {
   "cell_type": "code",
   "execution_count": 40,
   "metadata": {},
   "outputs": [
    {
     "name": "stdout",
     "output_type": "stream",
     "text": [
      "1. FRIENDS\n",
      "2. Big Bang Theory\n",
      "3. Breaking Bad\n",
      "4. Brooklyn 99\n",
      "\n",
      "1. Two and a Half Men\n",
      "2. FRIENDS\n",
      "3. Big Bang Theory\n",
      "4. Breaking Bad\n",
      "5. Brooklyn 99\n"
     ]
    }
   ],
   "source": [
    "program_list = [\"FRIENDS\",\"Big Bang Theory\",\"Breaking Bad\",\"Brooklyn 99\"]\n",
    "\n",
    "for i in range(len(program_list)):\n",
    "\n",
    "    print(\"{}. {}\".format(i+1,program_list[i]))\n",
    "\n",
    "print()\n",
    "user_show = input(\"Enter your favourite TV program: \") \n",
    "user_ind = int(input(\"Enter a position for your choice: \"))\n",
    "\n",
    "program_list.insert(user_ind - 1,user_show)\n",
    "\n",
    "for i in range(len(program_list)):\n",
    "\n",
    "    print(\"{}. {}\".format(i+1,program_list[i]))\n",
    "\n",
    "\n"
   ]
  },
  {
   "cell_type": "markdown",
   "metadata": {},
   "source": [
    "---\n",
    "\n",
    "### 079\n",
    "\n",
    "Create an empty list called 'nums'. Ask the user to enter numbers. \n",
    "\n",
    "After each number is entered, add it to the end of the nums list and display the list. Once they have entered three numbers, ask them if they still want the last number they entered saved. If they say 'no', remove the last item from the list. Display the list of numbers."
   ]
  },
  {
   "cell_type": "code",
   "execution_count": 44,
   "metadata": {},
   "outputs": [
    {
     "name": "stdout",
     "output_type": "stream",
     "text": [
      "[7]\n",
      "[7, 785]\n",
      "[7, 785, 121]\n",
      "[7, 785]\n"
     ]
    }
   ],
   "source": [
    "nums = []\n",
    "flag = True \n",
    "\n",
    "while flag:\n",
    "\n",
    "    num_user = int(input(\"Enter a number: \"))\n",
    "    nums.append(num_user)\n",
    "    print(nums)\n",
    "\n",
    "    if len(nums) == 3:\n",
    "\n",
    "        flag = False\n",
    "        decide_user = input(\"Do you want the last number saved?\").lower()\n",
    "\n",
    "        if decide_user == 'no':\n",
    "            nums.pop()\n",
    "            print(nums)\n",
    "\n",
    "        else:\n",
    "            print(nums)"
   ]
  }
 ],
 "metadata": {
  "kernelspec": {
   "display_name": "Python 3.9.12 ('base')",
   "language": "python",
   "name": "python3"
  },
  "language_info": {
   "codemirror_mode": {
    "name": "ipython",
    "version": 3
   },
   "file_extension": ".py",
   "mimetype": "text/x-python",
   "name": "python",
   "nbconvert_exporter": "python",
   "pygments_lexer": "ipython3",
   "version": "3.9.12"
  },
  "orig_nbformat": 4,
  "vscode": {
   "interpreter": {
    "hash": "aca1007d70b315df4c9b81801bc31c75ca1efa36944ab2281816f0b0b706cae3"
   }
  }
 },
 "nbformat": 4,
 "nbformat_minor": 2
}

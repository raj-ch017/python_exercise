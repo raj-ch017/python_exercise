{
 "cells": [
  {
   "cell_type": "markdown",
   "metadata": {},
   "source": [
    "# Chapter 2 - If Statements"
   ]
  },
  {
   "cell_type": "markdown",
   "metadata": {},
   "source": [
    "### 012\n",
    "\n",
    "Ask for two numbers. If the first one is larger than the second, display the second number first and then the first number, otherwise show the first number first and then the second number."
   ]
  },
  {
   "cell_type": "code",
   "execution_count": 3,
   "metadata": {},
   "outputs": [
    {
     "name": "stdout",
     "output_type": "stream",
     "text": [
      "The numbers are: 2, 10\n"
     ]
    }
   ],
   "source": [
    "num1 = int(input(\"Enter a number: \"))\n",
    "num2 = int(input(\"Enter another number: \"))\n",
    "\n",
    "if num1 > num2:\n",
    "    print(\"The numbers are: {}, {}\".format(num2,num1))\n",
    "else:\n",
    "    print(\"The numbers are: {}, {}\".format(num1,num2))"
   ]
  },
  {
   "cell_type": "markdown",
   "metadata": {},
   "source": [
    "---\n",
    "\n",
    "### 013\n",
    "\n",
    "Ask the user to enter a number that is under 20. If they enter a number that is 20 or more, display the message:\n",
    " \n",
    "            \"Too high\"\n",
    " \n",
    " Otherwise display:\n",
    " \n",
    "            \"Thank you\""
   ]
  },
  {
   "cell_type": "code",
   "execution_count": 2,
   "metadata": {},
   "outputs": [
    {
     "name": "stdout",
     "output_type": "stream",
     "text": [
      "Too high!\n"
     ]
    }
   ],
   "source": [
    "user_num13 = int(input(\"Enter a number: \"))\n",
    "\n",
    "if user_num13 >= 20:\n",
    "    print(\"Too high!\")\n",
    "else:\n",
    "    print(\"Thank you.\")"
   ]
  },
  {
   "cell_type": "markdown",
   "metadata": {},
   "source": [
    "---\n",
    "\n",
    "### 014\n",
    "\n",
    "Ask the user to enter a number between 10 and 20 (inclusive)\n",
    "\n",
    "If they enter a number within this range, display the message:\n",
    "\n",
    "            \"Thank you\"\n",
    "\n",
    "Otherwise, display the message:\n",
    "\n",
    "            \"Incorrect answer\"\n",
    "    "
   ]
  },
  {
   "cell_type": "code",
   "execution_count": 6,
   "metadata": {},
   "outputs": [
    {
     "name": "stdout",
     "output_type": "stream",
     "text": [
      "Incorrect answer.\n"
     ]
    }
   ],
   "source": [
    "user_num14 = int(input(\"Enter a number between 10 and 20: \"))\n",
    "\n",
    "if user_num14 in range(10,21):\n",
    "    print(\"Thank you.\")\n",
    "else:\n",
    "    print(\"Incorrect answer.\")"
   ]
  },
  {
   "cell_type": "markdown",
   "metadata": {},
   "source": [
    "---\n",
    "\n",
    "### 015\n",
    "\n",
    "Ask the user to enter their favourite colour. \n",
    "\n",
    "If they enter 'red', 'RED' or 'Red', display the message:\n",
    "\n",
    "            \"I like red too\"\n",
    "\n",
    "Otherwise display the message:\n",
    "\n",
    "            \" I don't like [color]. I prefer red\""
   ]
  },
  {
   "cell_type": "code",
   "execution_count": 9,
   "metadata": {},
   "outputs": [
    {
     "name": "stdout",
     "output_type": "stream",
     "text": [
      "I don't like Black. I prefer red.\n"
     ]
    }
   ],
   "source": [
    "user_in15 = input(\"Enter your favourite color: \")\n",
    "\n",
    "if user_in15.lower() == 'red':\n",
    "    print(\"I like red too!\")\n",
    "else:\n",
    "    print(\"I don't like {}. I prefer red.\".format(user_in15))"
   ]
  },
  {
   "cell_type": "markdown",
   "metadata": {},
   "source": [
    "---\n",
    "\n",
    "### 016\n",
    "\n",
    "Ask the user if it is raining and convert their answer to lower case so it doesn't matter what case they type it in.\n",
    "\n",
    "If they answer \"yes\", ask if it is windy. If they answer \"yes\" to this second question, display the answer:\n",
    "\n",
    "            \"It is too windy for an umbrella\"\n",
    "\n",
    "Otherwise display the message:\n",
    "\n",
    "            \"Take an umbrella\"\n",
    "\n",
    "If they did not answer 'yes' to the first question, display the answer:\n",
    "\n",
    "            \"Enjoy your day\""
   ]
  },
  {
   "cell_type": "code",
   "execution_count": 12,
   "metadata": {},
   "outputs": [
    {
     "name": "stdout",
     "output_type": "stream",
     "text": [
      "Enjoy your day!\n"
     ]
    }
   ],
   "source": [
    "user_in16 = input(\"Is it raining? \").lower()\n",
    "\n",
    "if user_in16 == 'yes':\n",
    "\n",
    "    user_in_again = input(\"Is is windy? \").lower()\n",
    "\n",
    "    if user_in_again == 'yes':\n",
    "\n",
    "        print(\"It is too windy for an umbrella!\")\n",
    "\n",
    "    else:\n",
    "\n",
    "        print(\"Take an umbrella.\")\n",
    "\n",
    "else:\n",
    "\n",
    "    print(\"Enjoy your day!\")"
   ]
  },
  {
   "cell_type": "markdown",
   "metadata": {},
   "source": [
    "---\n",
    "\n",
    "### 017\n",
    "\n",
    "Ask the user's age. \n",
    "\n",
    "If they are 18 or over, display the message:\n",
    "\n",
    "            \"You can vote\"\n",
    "\n",
    "If they are aged 17, display the message:\n",
    "\n",
    "            \"You can learn to drive\"\n",
    "\n",
    "If they are aged 16, display the message:\n",
    "\n",
    "            \"You can buy a lottery ticket\"\n",
    "\n",
    "If they are under 16, display the message:\n",
    "\n",
    "            \"You can go Trick-or-Treating\""
   ]
  },
  {
   "cell_type": "code",
   "execution_count": 16,
   "metadata": {},
   "outputs": [
    {
     "name": "stdout",
     "output_type": "stream",
     "text": [
      "You can buy a lottery ticket\n"
     ]
    }
   ],
   "source": [
    "user_age = int(input(\"Please enter your age: \"))\n",
    "\n",
    "if user_age >= 18:\n",
    "\n",
    "    print(\"You can vote.\")\n",
    "\n",
    "elif user_age == 17:\n",
    "\n",
    "    print(\"You can learn to drive\")\n",
    "\n",
    "elif user_age == 16:\n",
    "    \n",
    "    print(\"You can buy a lottery ticket\")\n",
    "\n",
    "else:\n",
    "\n",
    "    print(\"You can go Trick-or-Treating\")"
   ]
  },
  {
   "cell_type": "markdown",
   "metadata": {},
   "source": [
    "---\n",
    "\n",
    "### 018\n",
    "\n",
    "Ask the user to enter a number. \n",
    "\n",
    "If it is under 10, display the message:\n",
    "\n",
    "            \"Too low\"\n",
    "\n",
    "If their number is between 10 and 20, display:\n",
    "\n",
    "            \"Correct\"\n",
    "\n",
    "Otherwise, display:\n",
    "\n",
    "            \"Too high\"\n",
    "            "
   ]
  },
  {
   "cell_type": "code",
   "execution_count": 20,
   "metadata": {},
   "outputs": [
    {
     "name": "stdout",
     "output_type": "stream",
     "text": [
      "Correct\n"
     ]
    }
   ],
   "source": [
    "user_in18 = int(input(\"Enter a number: \"))\n",
    "\n",
    "if user_in18 < 10:\n",
    "\n",
    "    print(\"Too low\")\n",
    "\n",
    "elif user_in18 > 20:\n",
    "\n",
    "    print(\"Too high\")\n",
    "\n",
    "else:\n",
    "    \n",
    "    print(\"Correct\")"
   ]
  },
  {
   "cell_type": "markdown",
   "metadata": {},
   "source": [
    "---\n",
    "\n",
    "### 019\n",
    "\n",
    "Ask the user to enter 1, 2 or 3.\n",
    "\n",
    "If they enter a 1, display the message:\n",
    "\n",
    "            \"Thank you.\"\n",
    "\n",
    "If they enter a 2, display:\n",
    "\n",
    "            \"Well done\"\n",
    "\n",
    "If they enter a 3, display:\n",
    "\n",
    "            \"Correct\"\n",
    "\n",
    "If they enter anything else, display:\n",
    "\n",
    "            \"Error message\""
   ]
  },
  {
   "cell_type": "code",
   "execution_count": 31,
   "metadata": {},
   "outputs": [
    {
     "name": "stdout",
     "output_type": "stream",
     "text": [
      "Error!\n"
     ]
    }
   ],
   "source": [
    "user_in19 = int(input(\"Enter 1, 2 or 3: \"))\n",
    "\n",
    "if user_in19 == 1:\n",
    "    \n",
    "    print(\"Thank you.\")\n",
    "\n",
    "elif user_in19 == 2:\n",
    "    \n",
    "    print(\"Well done.\")\n",
    "\n",
    "elif user_in19 == 3:\n",
    "\n",
    "    print(\"Correct.\")\n",
    "\n",
    "else:\n",
    "\n",
    "    print(\"Error!\")"
   ]
  }
 ],
 "metadata": {
  "kernelspec": {
   "display_name": "Python 3.8.5 ('base')",
   "language": "python",
   "name": "python3"
  },
  "language_info": {
   "codemirror_mode": {
    "name": "ipython",
    "version": 3
   },
   "file_extension": ".py",
   "mimetype": "text/x-python",
   "name": "python",
   "nbconvert_exporter": "python",
   "pygments_lexer": "ipython3",
   "version": "3.8.5"
  },
  "orig_nbformat": 4,
  "vscode": {
   "interpreter": {
    "hash": "f73e3eab7f8f3895bcf0233006e6b85a782c67f2d3bcd98f4fda580a3f96bd0c"
   }
  }
 },
 "nbformat": 4,
 "nbformat_minor": 2
}

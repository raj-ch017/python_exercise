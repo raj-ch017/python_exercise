{
 "cells": [
  {
   "cell_type": "markdown",
   "metadata": {},
   "source": [
    "# Chapter 4 - Mathematics"
   ]
  },
  {
   "cell_type": "markdown",
   "metadata": {},
   "source": [
    "---\n",
    "\n",
    "### 027\n",
    "\n",
    "Ask the user to enter a number with lots of decimal places. Multiply this number by two and display the answer."
   ]
  },
  {
   "cell_type": "code",
   "execution_count": 1,
   "metadata": {},
   "outputs": [
    {
     "name": "stdout",
     "output_type": "stream",
     "text": [
      "The new number is 6.2831852\n"
     ]
    }
   ],
   "source": [
    "user_in = float(input(\"Enter a number with decimals: \"))\n",
    "\n",
    "print(\"The new number is {}\".format(user_in * 2))\n"
   ]
  },
  {
   "cell_type": "markdown",
   "metadata": {},
   "source": [
    "---\n",
    "\n",
    "### 028\n",
    "\n",
    "Update program 027 so that it will display the answer to two decimal places."
   ]
  },
  {
   "cell_type": "code",
   "execution_count": 5,
   "metadata": {},
   "outputs": [
    {
     "name": "stdout",
     "output_type": "stream",
     "text": [
      "The new number is 50.0\n"
     ]
    }
   ],
   "source": [
    "user_in_again = float(input(\"Enter a number with decimals: \"))\n",
    "\n",
    "ans = round(user_in_again*2,2)\n",
    "\n",
    "print(\"The new number is {}\".format(ans))"
   ]
  },
  {
   "cell_type": "markdown",
   "metadata": {},
   "source": [
    "---\n",
    "\n",
    "### 029\n",
    "\n",
    "Ask the user to enter an integer that is over 500. Work out the square root of that number and display it to two display decimal places."
   ]
  },
  {
   "cell_type": "code",
   "execution_count": 7,
   "metadata": {},
   "outputs": [
    {
     "name": "stdout",
     "output_type": "stream",
     "text": [
      "The square root of 769 is 27.73\n"
     ]
    }
   ],
   "source": [
    "import math\n",
    "\n",
    "user_int = int(input(\"Enter a number greater than 500: \"))\n",
    "\n",
    "sq_rt = round(math.sqrt(user_int),2)\n",
    "\n",
    "print(\"The square root of {} is {}\".format(user_int,sq_rt))"
   ]
  },
  {
   "cell_type": "markdown",
   "metadata": {},
   "source": [
    "---\n",
    "\n",
    "### 030\n",
    "\n",
    "Display pi to five decimal places."
   ]
  },
  {
   "cell_type": "code",
   "execution_count": 8,
   "metadata": {},
   "outputs": [
    {
     "name": "stdout",
     "output_type": "stream",
     "text": [
      "Value of pi = 3.14159\n"
     ]
    }
   ],
   "source": [
    "print(\"Value of pi = {}\".format(round(math.pi,5)))"
   ]
  },
  {
   "cell_type": "markdown",
   "metadata": {},
   "source": [
    "---\n",
    "\n",
    "### 031\n",
    "\n",
    "Ask the use to enter the radius of a cricle. Work out the area of the circle."
   ]
  },
  {
   "cell_type": "code",
   "execution_count": 10,
   "metadata": {},
   "outputs": [
    {
     "name": "stdout",
     "output_type": "stream",
     "text": [
      "Area = 19.634954084936208\n"
     ]
    }
   ],
   "source": [
    "user_radius = float(input(\"Enter the radius of a circle: \"))\n",
    "\n",
    "area = math.pi * (user_radius**2)\n",
    "\n",
    "print(\"Area = {}\".format(area))"
   ]
  },
  {
   "cell_type": "markdown",
   "metadata": {},
   "source": [
    "---\n",
    "\n",
    "### 032 \n",
    "\n",
    "Ask for the radius and the depth of a cylinder and work out the total volume (circle area * depth) rounded to three decimal places."
   ]
  },
  {
   "cell_type": "code",
   "execution_count": 12,
   "metadata": {},
   "outputs": [
    {
     "name": "stdout",
     "output_type": "stream",
     "text": [
      "Height: 5.0 \n",
      "Radius: 2.0 \n",
      "Volume: 62.832\n"
     ]
    }
   ],
   "source": [
    "cylinder_radius = float(input(\"Enter the radius of the cylinder: \"))\n",
    "cylinder_height = float(input(\"Enter the height of the cylinder: \"))\n",
    "\n",
    "vol = math.pi * cylinder_height * (cylinder_radius**2)\n",
    "\n",
    "print(\"Height: {} \\nRadius: {} \\nVolume: {}\".format(cylinder_height,cylinder_radius,round(vol,3)))"
   ]
  },
  {
   "cell_type": "markdown",
   "metadata": {},
   "source": [
    "---\n",
    "\n",
    "### 033\n",
    "\n",
    "Ask the user to enter two numbers. Use whole number division to divide the first number by the second and also work out the remainder and display the answer in a user-friendly way."
   ]
  },
  {
   "cell_type": "code",
   "execution_count": 14,
   "metadata": {},
   "outputs": [
    {
     "name": "stdout",
     "output_type": "stream",
     "text": [
      "33 divided by 6 = 5 \n",
      "Remainder = 3\n"
     ]
    }
   ],
   "source": [
    "first_num = int(input(\"Enter the first number: \"))\n",
    "second_num = int(input(\"Enter the second number: \"))\n",
    "\n",
    "quot = first_num // second_num\n",
    "remain = first_num % second_num\n",
    "\n",
    "print(\"{} divided by {} = {} \\nRemainder = {}\".format(first_num,second_num,quot,remain))"
   ]
  },
  {
   "cell_type": "markdown",
   "metadata": {},
   "source": [
    "---\n",
    "\n",
    "### 034\n",
    "\n",
    "Display the following message:\n",
    "\n",
    "            1. Square\n",
    "            2. Triangle\n",
    "\n",
    "            Enter a number: \n",
    "\n",
    "If the user enters 1, then it should ask them for the length of one of its side and display the area.\n",
    "\n",
    "If they select 2, it should ask for the base and height of the triangle and display the area.\n",
    "\n",
    "If they type in anything else, it should give them a suitable error message."
   ]
  },
  {
   "cell_type": "code",
   "execution_count": 18,
   "metadata": {},
   "outputs": [
    {
     "name": "stdout",
     "output_type": "stream",
     "text": [
      "1. Square \n",
      "2. Triangle\n",
      "Base: 5.0 \n",
      "Height: 7.0 \n",
      "Area: 17.5\n"
     ]
    }
   ],
   "source": [
    "print(\"1. Square \\n2. Triangle\")\n",
    "\n",
    "user_choice = int(input(\"Enter a number: \"))\n",
    "\n",
    "if user_choice == 1:\n",
    "\n",
    "    side = float(input(\"Enter the length of the square's side: \"))\n",
    "\n",
    "    print(\"Side: {} \\nArea: {}\".format(side,(side**2)))\n",
    "\n",
    "elif user_choice == 2:\n",
    "\n",
    "    base = float(input(\"Enter the base of the triangle: \"))\n",
    "    height = float(input(\"Enter the height of the triangle: \"))\n",
    "\n",
    "    triangle_area = (1/2) * base * height\n",
    "\n",
    "    print(\"Base: {} \\nHeight: {} \\nArea: {}\".format(base,height,triangle_area))\n",
    "\n",
    "else:\n",
    "\n",
    "    print(\"You have provided an invalid input.\")"
   ]
  }
 ],
 "metadata": {
  "kernelspec": {
   "display_name": "Python 3.8.5 ('base')",
   "language": "python",
   "name": "python3"
  },
  "language_info": {
   "codemirror_mode": {
    "name": "ipython",
    "version": 3
   },
   "file_extension": ".py",
   "mimetype": "text/x-python",
   "name": "python",
   "nbconvert_exporter": "python",
   "pygments_lexer": "ipython3",
   "version": "3.8.5"
  },
  "orig_nbformat": 4,
  "vscode": {
   "interpreter": {
    "hash": "f73e3eab7f8f3895bcf0233006e6b85a782c67f2d3bcd98f4fda580a3f96bd0c"
   }
  }
 },
 "nbformat": 4,
 "nbformat_minor": 2
}
